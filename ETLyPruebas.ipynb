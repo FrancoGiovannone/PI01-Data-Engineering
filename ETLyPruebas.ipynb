{
 "cells": [
  {
   "attachments": {},
   "cell_type": "markdown",
   "metadata": {},
   "source": [
    "TRANSFORMACIÓN DE LOS CSV"
   ]
  },
  {
   "cell_type": "code",
   "execution_count": 1,
   "metadata": {},
   "outputs": [],
   "source": [
    "#Importro Pandas.\n",
    "import pandas as pd"
   ]
  },
  {
   "cell_type": "code",
   "execution_count": 2,
   "metadata": {},
   "outputs": [],
   "source": [
    "#Importo los datasets.\n",
    "amazon = pd.read_csv(\"C:/Users/franc/OneDrive/Escritorio/HENRY/PI01-Data-Engineering/Datasets/amazon_prime_titles-score.csv\")\n",
    "disney = pd.read_csv(\"C:/Users/franc/OneDrive/Escritorio/HENRY/PI01-Data-Engineering/Datasets/disney_plus_titles-score.csv\")\n",
    "hulu = pd.read_csv(\"C:/Users/franc/OneDrive/Escritorio/HENRY/PI01-Data-Engineering/Datasets/hulu_titles-score (2).csv\")\n",
    "netflix = pd.read_csv(\"C:/Users/franc/OneDrive/Escritorio/HENRY/PI01-Data-Engineering/Datasets/netflix_titles-score.csv\")"
   ]
  },
  {
   "cell_type": "code",
   "execution_count": 3,
   "metadata": {},
   "outputs": [],
   "source": [
    "#Generar campo id: Cada id se compondrá de la primera letra del nombre de la plataforma, seguido del show_id.\n",
    "#Agrego el campo \"plataforma\"\n",
    "amazon[\"plataforma\"] = \"amazon\"\n",
    "amazon[\"id\"] = \"a\" + amazon[\"show_id\"]\n",
    "disney[\"plataforma\"] = \"disney\"\n",
    "disney[\"id\"] = \"d\" + disney[\"show_id\"]\n",
    "hulu[\"plataforma\"] = \"hulu\"\n",
    "hulu[\"id\"] = \"h\" + hulu[\"show_id\"]\n",
    "netflix[\"plataforma\"] = \"netflix\"\n",
    "netflix[\"id\"] = \"n\" + netflix[\"show_id\"]"
   ]
  },
  {
   "cell_type": "code",
   "execution_count": 4,
   "metadata": {},
   "outputs": [],
   "source": [
    "#Los valores nulos del campo rating deberán reemplazarse por el string “G”.\n",
    "amazon[\"rating\"].fillna(\"G\", inplace = True)\n",
    "disney[\"rating\"].fillna(\"G\", inplace = True)\n",
    "hulu[\"rating\"].fillna(\"G\", inplace = True)\n",
    "netflix[\"rating\"].fillna(\"G\", inplace = True)"
   ]
  },
  {
   "cell_type": "code",
   "execution_count": 5,
   "metadata": {},
   "outputs": [],
   "source": [
    "#De haber fechas, deberán tener el formato AAAA-mm-dd\n",
    "#Elimino los espacios a la izquierda y derecha y le doy formato date-time.\n",
    "amazon[\"date_added\"] = amazon[\"date_added\"].str.lstrip()\n",
    "amazon[\"date_added\"] = amazon[\"date_added\"].str.rstrip()\n",
    "amazon[\"date_added\"] = pd.to_datetime(amazon[\"date_added\"])"
   ]
  },
  {
   "cell_type": "code",
   "execution_count": 6,
   "metadata": {},
   "outputs": [],
   "source": [
    "disney[\"date_added\"] = disney[\"date_added\"].str.lstrip()\n",
    "disney[\"date_added\"] = disney[\"date_added\"].str.rstrip()\n",
    "disney[\"date_added\"] = pd.to_datetime(disney[\"date_added\"])"
   ]
  },
  {
   "cell_type": "code",
   "execution_count": 7,
   "metadata": {},
   "outputs": [],
   "source": [
    "hulu[\"date_added\"] = hulu[\"date_added\"].str.lstrip()\n",
    "hulu[\"date_added\"] = hulu[\"date_added\"].str.rstrip()\n",
    "hulu[\"date_added\"] = pd.to_datetime(hulu[\"date_added\"])"
   ]
  },
  {
   "cell_type": "code",
   "execution_count": 8,
   "metadata": {},
   "outputs": [],
   "source": [
    "netflix[\"date_added\"] = netflix[\"date_added\"].str.lstrip()\n",
    "netflix[\"date_added\"] = netflix[\"date_added\"].str.rstrip()\n",
    "netflix[\"date_added\"] = pd.to_datetime(netflix[\"date_added\"])"
   ]
  },
  {
   "cell_type": "code",
   "execution_count": 9,
   "metadata": {},
   "outputs": [],
   "source": [
    "#Reemplazo los valores nulos de la columna de neftlix duration por los valores de la columna rating.\n",
    "netflix[\"duration\"].fillna(netflix[\"rating\"][netflix[\"duration\"].isnull()], inplace = True)"
   ]
  },
  {
   "cell_type": "code",
   "execution_count": 10,
   "metadata": {},
   "outputs": [
    {
     "name": "stdout",
     "output_type": "stream",
     "text": [
      "<class 'pandas.core.frame.DataFrame'>\n",
      "RangeIndex: 8807 entries, 0 to 8806\n",
      "Data columns (total 15 columns):\n",
      " #   Column        Non-Null Count  Dtype         \n",
      "---  ------        --------------  -----         \n",
      " 0   show_id       8807 non-null   object        \n",
      " 1   type          8807 non-null   object        \n",
      " 2   title         8807 non-null   object        \n",
      " 3   director      6173 non-null   object        \n",
      " 4   cast          7982 non-null   object        \n",
      " 5   country       7976 non-null   object        \n",
      " 6   date_added    8797 non-null   datetime64[ns]\n",
      " 7   release_year  8807 non-null   int64         \n",
      " 8   rating        8807 non-null   object        \n",
      " 9   duration      8807 non-null   object        \n",
      " 10  listed_in     8807 non-null   object        \n",
      " 11  description   8807 non-null   object        \n",
      " 12  score         8807 non-null   int64         \n",
      " 13  plataforma    8807 non-null   object        \n",
      " 14  id            8807 non-null   object        \n",
      "dtypes: datetime64[ns](1), int64(2), object(12)\n",
      "memory usage: 619.3+ KB\n"
     ]
    }
   ],
   "source": [
    "netflix.info()"
   ]
  },
  {
   "cell_type": "code",
   "execution_count": 10,
   "metadata": {},
   "outputs": [],
   "source": [
    "#Parto el campo duration de cada plataforma.\n",
    "amazon_duration_partido = amazon[\"duration\"].str.split(' ', n = 1, expand = True)\n",
    "disney_duration_partido = disney[\"duration\"].str.split(' ', n = 1, expand = True)\n",
    "hulu_duration_partido = hulu[\"duration\"].str.split(' ', n = 1, expand = True)\n",
    "netflix_duration_partido = netflix[\"duration\"].str.split(' ', n = 1, expand = True)"
   ]
  },
  {
   "cell_type": "code",
   "execution_count": 11,
   "metadata": {},
   "outputs": [],
   "source": [
    "#Le asigno el valor númerico al campo duration_int y al campo duration_type \"min\" o \"season\"\n",
    "\n",
    "amazon[\"duration_int\"] = amazon_duration_partido[0]\n",
    "amazon[\"duration_type\"] = amazon_duration_partido[1]"
   ]
  },
  {
   "cell_type": "code",
   "execution_count": 12,
   "metadata": {},
   "outputs": [],
   "source": [
    "disney[\"duration_int\"] = disney_duration_partido[0]\n",
    "disney[\"duration_type\"] = disney_duration_partido[1]"
   ]
  },
  {
   "cell_type": "code",
   "execution_count": 13,
   "metadata": {},
   "outputs": [],
   "source": [
    "hulu[\"duration_int\"] = hulu_duration_partido[0]\n",
    "hulu[\"duration_type\"] = hulu_duration_partido[1]"
   ]
  },
  {
   "cell_type": "code",
   "execution_count": 14,
   "metadata": {},
   "outputs": [],
   "source": [
    "netflix[\"duration_int\"] = netflix_duration_partido[0]\n",
    "netflix[\"duration_type\"] = netflix_duration_partido[1]"
   ]
  },
  {
   "cell_type": "code",
   "execution_count": 19,
   "metadata": {},
   "outputs": [
    {
     "name": "stdout",
     "output_type": "stream",
     "text": [
      "<class 'pandas.core.frame.DataFrame'>\n",
      "RangeIndex: 9668 entries, 0 to 9667\n",
      "Data columns (total 17 columns):\n",
      " #   Column         Non-Null Count  Dtype         \n",
      "---  ------         --------------  -----         \n",
      " 0   show_id        9668 non-null   object        \n",
      " 1   type           9668 non-null   object        \n",
      " 2   title          9668 non-null   object        \n",
      " 3   director       7586 non-null   object        \n",
      " 4   cast           8435 non-null   object        \n",
      " 5   country        672 non-null    object        \n",
      " 6   date_added     155 non-null    datetime64[ns]\n",
      " 7   release_year   9668 non-null   int64         \n",
      " 8   rating         9668 non-null   object        \n",
      " 9   duration       9668 non-null   object        \n",
      " 10  listed_in      9668 non-null   object        \n",
      " 11  description    9668 non-null   object        \n",
      " 12  score          9668 non-null   int64         \n",
      " 13  plataforma     9668 non-null   object        \n",
      " 14  id             9668 non-null   object        \n",
      " 15  duration_int   9668 non-null   int64         \n",
      " 16  duration_type  9668 non-null   object        \n",
      "dtypes: datetime64[ns](1), int64(3), object(13)\n",
      "memory usage: 1.3+ MB\n"
     ]
    }
   ],
   "source": [
    "amazon.info()"
   ]
  },
  {
   "cell_type": "code",
   "execution_count": 15,
   "metadata": {},
   "outputs": [],
   "source": [
    "#Paso el campo \"duration_int\" de string a integer.\n",
    "amazon[\"duration_int\"] = pd.to_numeric(amazon[\"duration_int\"])"
   ]
  },
  {
   "cell_type": "code",
   "execution_count": 16,
   "metadata": {},
   "outputs": [],
   "source": [
    "disney[\"duration_int\"] = pd.to_numeric(disney[\"duration_int\"])"
   ]
  },
  {
   "cell_type": "code",
   "execution_count": 17,
   "metadata": {},
   "outputs": [],
   "source": [
    "hulu[\"duration_int\"] = pd.to_numeric(hulu[\"duration_int\"])"
   ]
  },
  {
   "cell_type": "code",
   "execution_count": 18,
   "metadata": {},
   "outputs": [],
   "source": [
    "netflix[\"duration_int\"] = pd.to_numeric(netflix[\"duration_int\"])"
   ]
  },
  {
   "cell_type": "code",
   "execution_count": 19,
   "metadata": {},
   "outputs": [],
   "source": [
    "#Concateno los 4 dataframe.\n",
    "df = pd.concat([amazon,disney,hulu,netflix])"
   ]
  },
  {
   "cell_type": "code",
   "execution_count": 21,
   "metadata": {},
   "outputs": [
    {
     "name": "stdout",
     "output_type": "stream",
     "text": [
      "<class 'pandas.core.frame.DataFrame'>\n",
      "Int64Index: 22998 entries, 0 to 8806\n",
      "Data columns (total 17 columns):\n",
      " #   Column         Non-Null Count  Dtype         \n",
      "---  ------         --------------  -----         \n",
      " 0   show_id        22998 non-null  object        \n",
      " 1   type           22998 non-null  object        \n",
      " 2   title          22998 non-null  object        \n",
      " 3   director       14739 non-null  object        \n",
      " 4   cast           17677 non-null  object        \n",
      " 5   country        11499 non-null  object        \n",
      " 6   date_added     13444 non-null  datetime64[ns]\n",
      " 7   release_year   22998 non-null  int64         \n",
      " 8   rating         22998 non-null  object        \n",
      " 9   duration       22519 non-null  object        \n",
      " 10  listed_in      22998 non-null  object        \n",
      " 11  description    22994 non-null  object        \n",
      " 12  score          22998 non-null  int64         \n",
      " 13  plataforma     22998 non-null  object        \n",
      " 14  id             22998 non-null  object        \n",
      " 15  duration_int   22519 non-null  float64       \n",
      " 16  duration_type  22519 non-null  object        \n",
      "dtypes: datetime64[ns](1), float64(1), int64(2), object(13)\n",
      "memory usage: 2.0+ MB\n"
     ]
    }
   ],
   "source": [
    "df.info()"
   ]
  },
  {
   "cell_type": "code",
   "execution_count": 20,
   "metadata": {},
   "outputs": [],
   "source": [
    "#Paso todos los campos que son string a minúscula.\n",
    "df[\"show_id\"] = df[\"show_id\"].str.lower()\n",
    "df[\"type\"] = df[\"type\"].str.lower()\n",
    "df[\"title\"] = df[\"title\"].str.lower()\n",
    "df[\"director\"] = df[\"director\"].str.lower()\n",
    "df[\"cast\"] = df[\"cast\"].str.lower()\n",
    "df[\"country\"] = df[\"country\"].str.lower()\n",
    "df[\"rating\"] = df[\"rating\"].str.lower()\n",
    "df[\"duration\"] = df[\"duration\"].str.lower()\n",
    "df[\"listed_in\"] = df[\"listed_in\"].str.lower()\n",
    "df[\"description\"] = df[\"description\"].str.lower()\n",
    "df[\"plataforma\"] = df[\"plataforma\"].str.lower()\n",
    "df[\"id\"] = df[\"id\"].str.lower()\n",
    "df[\"duration_type\"] = df[\"duration_type\"].str.lower()"
   ]
  },
  {
   "cell_type": "code",
   "execution_count": 21,
   "metadata": {},
   "outputs": [],
   "source": [
    "#Reemplazo los valores \"seasons\" por \"season\" del campo \"duration_type\"\n",
    "df[\"duration_type\"].replace({\"seasons\": \"season\"}, inplace = True)"
   ]
  },
  {
   "cell_type": "code",
   "execution_count": 22,
   "metadata": {},
   "outputs": [],
   "source": [
    "#Transformo df a csv y le pongo el nombre de data_total\n",
    "df.to_csv(r\"C:\\Users\\franc\\OneDrive\\Escritorio\\HENRY\\PI01-Data-Engineering\\data_total.csv\", index = False)"
   ]
  },
  {
   "cell_type": "code",
   "execution_count": 24,
   "metadata": {},
   "outputs": [
    {
     "name": "stdout",
     "output_type": "stream",
     "text": [
      "<class 'pandas.core.frame.DataFrame'>\n",
      "Int64Index: 22998 entries, 0 to 8806\n",
      "Data columns (total 17 columns):\n",
      " #   Column         Non-Null Count  Dtype         \n",
      "---  ------         --------------  -----         \n",
      " 0   show_id        22998 non-null  object        \n",
      " 1   type           22998 non-null  object        \n",
      " 2   title          22998 non-null  object        \n",
      " 3   director       14739 non-null  object        \n",
      " 4   cast           17677 non-null  object        \n",
      " 5   country        11499 non-null  object        \n",
      " 6   date_added     13444 non-null  datetime64[ns]\n",
      " 7   release_year   22998 non-null  int64         \n",
      " 8   rating         22998 non-null  object        \n",
      " 9   duration       22519 non-null  object        \n",
      " 10  listed_in      22998 non-null  object        \n",
      " 11  description    22994 non-null  object        \n",
      " 12  score          22998 non-null  int64         \n",
      " 13  plataforma     22998 non-null  object        \n",
      " 14  id             22998 non-null  object        \n",
      " 15  duration_int   22519 non-null  float64       \n",
      " 16  duration_type  22519 non-null  object        \n",
      "dtypes: datetime64[ns](1), float64(1), int64(2), object(13)\n",
      "memory usage: 2.0+ MB\n"
     ]
    }
   ],
   "source": [
    "df.info()"
   ]
  },
  {
   "attachments": {},
   "cell_type": "markdown",
   "metadata": {},
   "source": [
    "PRUEBAS PARA GENERAR LAS CONSULTAS CORRECTAS PARA LA API\n"
   ]
  },
  {
   "cell_type": "code",
   "execution_count": 25,
   "metadata": {},
   "outputs": [
    {
     "name": "stdout",
     "output_type": "stream",
     "text": [
      "<class 'pandas.core.frame.DataFrame'>\n",
      "Int64Index: 22998 entries, 0 to 8806\n",
      "Data columns (total 17 columns):\n",
      " #   Column         Non-Null Count  Dtype         \n",
      "---  ------         --------------  -----         \n",
      " 0   show_id        22998 non-null  object        \n",
      " 1   type           22998 non-null  object        \n",
      " 2   title          22998 non-null  object        \n",
      " 3   director       14739 non-null  object        \n",
      " 4   cast           17677 non-null  object        \n",
      " 5   country        11499 non-null  object        \n",
      " 6   date_added     13444 non-null  datetime64[ns]\n",
      " 7   release_year   22998 non-null  int64         \n",
      " 8   rating         22998 non-null  object        \n",
      " 9   duration       22519 non-null  object        \n",
      " 10  listed_in      22998 non-null  object        \n",
      " 11  description    22994 non-null  object        \n",
      " 12  score          22998 non-null  int64         \n",
      " 13  plataforma     22998 non-null  object        \n",
      " 14  id             22998 non-null  object        \n",
      " 15  duration_int   22519 non-null  float64       \n",
      " 16  duration_type  22519 non-null  object        \n",
      "dtypes: datetime64[ns](1), float64(1), int64(2), object(13)\n",
      "memory usage: 2.0+ MB\n"
     ]
    }
   ],
   "source": [
    "df.info()"
   ]
  },
  {
   "attachments": {},
   "cell_type": "markdown",
   "metadata": {},
   "source": [
    "CONSULTA 4: Película que más duró según año, plataforma y tipo de duración"
   ]
  },
  {
   "cell_type": "code",
   "execution_count": 28,
   "metadata": {},
   "outputs": [],
   "source": [
    "def get_longest(plat: str, durtype: str, anio: int):\n",
    "    \n",
    "    mas_larga = df[(df[\"release_year\"] == anio) & (df[\"plataforma\"] == plat) & (df[\"duration_type\"] == durtype)]\n",
    "    mas_larga = mas_larga.sort_values(\"duration_int\", ascending = False ).head(1)\n",
    "    pelicula = list(mas_larga[\"title\"])[0]\n",
    "    duracion = list(mas_larga[\"duration_int\"])[0]\n",
    "    \n",
    "    return {\"title\": pelicula, \n",
    "         \"duration\": duracion,\n",
    "    \"duration_type\": durtype}"
   ]
  },
  {
   "cell_type": "code",
   "execution_count": 29,
   "metadata": {},
   "outputs": [
    {
     "data": {
      "text/plain": [
       "{'title': 'sairat', 'duration': 173.0, 'duration_type': 'min'}"
      ]
     },
     "execution_count": 29,
     "metadata": {},
     "output_type": "execute_result"
    }
   ],
   "source": [
    "get_longest(\"netflix\",\"min\",2016)"
   ]
  },
  {
   "attachments": {},
   "cell_type": "markdown",
   "metadata": {},
   "source": [
    "CONSULTA 1: Cantidad de veces que aparece una keyword en el título de peliculas/series, por plataforma"
   ]
  },
  {
   "cell_type": "code",
   "execution_count": 60,
   "metadata": {},
   "outputs": [],
   "source": [
    "def get_word_count(plat: str, keyword: str):\n",
    "    titulos_partidos = []\n",
    "    cantidad = 0\n",
    "    for titulo in df[\"title\"][df[\"plataforma\"] == plat]:\n",
    "        titulos_partidos.append(titulo.split(\" \"))\n",
    "    for i in titulos_partidos:\n",
    "        if keyword in i:\n",
    "            cantidad+=1\n",
    "    return cantidad  "
   ]
  },
  {
   "cell_type": "code",
   "execution_count": 61,
   "metadata": {},
   "outputs": [
    {
     "data": {
      "text/plain": [
       "150"
      ]
     },
     "execution_count": 61,
     "metadata": {},
     "output_type": "execute_result"
    }
   ],
   "source": [
    "get_word_count(\"netflix\",\"love\")  "
   ]
  },
  {
   "attachments": {},
   "cell_type": "markdown",
   "metadata": {},
   "source": [
    "CONSULTA 2: Cantidad de películas por plataforma con un puntaje mayor a XX en determinado año"
   ]
  },
  {
   "cell_type": "code",
   "execution_count": 9,
   "metadata": {},
   "outputs": [],
   "source": [
    "def get_score_count(plat: str, puntaje: int, anio: int):\n",
    "    consulta = df[(df[\"plataforma\"]== plat) & (df[\"release_year\"] == anio) & (df[\"score\"] > puntaje) & (df[\"duration_type\"] == \"min\")]\n",
    "    return {\"plataforma\": plat,\n",
    "    \"cantidad\": consulta.shape[0]}"
   ]
  },
  {
   "cell_type": "code",
   "execution_count": 11,
   "metadata": {},
   "outputs": [
    {
     "data": {
      "text/plain": [
       "{'plataforma': 'netflix', 'cantidad': 20}"
      ]
     },
     "execution_count": 11,
     "metadata": {},
     "output_type": "execute_result"
    }
   ],
   "source": [
    "get_score_count(\"netflix\",85,2010)"
   ]
  },
  {
   "attachments": {},
   "cell_type": "markdown",
   "metadata": {},
   "source": [
    "CONSULTA 3: La segunda película con mayor score para una plataforma determinada, según el orden alfabético de los títulos."
   ]
  },
  {
   "cell_type": "code",
   "execution_count": 63,
   "metadata": {},
   "outputs": [],
   "source": [
    "def get_second_score(plat: str):\n",
    "    consulta = df[(df[\"plataforma\"] == plat) & (df[\"duration_type\"] == \"min\")]\n",
    "    consulta_ordenada = consulta.sort_values([\"score\",\"title\"], ascending = (False, True))\n",
    "    \n",
    "    return list(consulta_ordenada[\"title\"])[1]"
   ]
  },
  {
   "cell_type": "code",
   "execution_count": 68,
   "metadata": {},
   "outputs": [
    {
     "data": {
      "text/plain": [
       "'abilene town'"
      ]
     },
     "execution_count": 68,
     "metadata": {},
     "output_type": "execute_result"
    }
   ],
   "source": [
    "get_second_score(\"amazon\")"
   ]
  },
  {
   "cell_type": "code",
   "execution_count": 73,
   "metadata": {},
   "outputs": [
    {
     "name": "stdout",
     "output_type": "stream",
     "text": [
      "<class 'pandas.core.frame.DataFrame'>\n",
      "RangeIndex: 22998 entries, 0 to 22997\n",
      "Data columns (total 17 columns):\n",
      " #   Column         Non-Null Count  Dtype  \n",
      "---  ------         --------------  -----  \n",
      " 0   show_id        22998 non-null  object \n",
      " 1   type           22998 non-null  object \n",
      " 2   title          22998 non-null  object \n",
      " 3   director       14739 non-null  object \n",
      " 4   cast           17677 non-null  object \n",
      " 5   country        11499 non-null  object \n",
      " 6   date_added     13444 non-null  object \n",
      " 7   release_year   22998 non-null  int32  \n",
      " 8   rating         22998 non-null  object \n",
      " 9   duration       22519 non-null  object \n",
      " 10  listed_in      22998 non-null  object \n",
      " 11  description    22994 non-null  object \n",
      " 12  score          22998 non-null  int64  \n",
      " 13  plataforma     22998 non-null  object \n",
      " 14  id             22998 non-null  object \n",
      " 15  duration_int   22519 non-null  float64\n",
      " 16  duration_type  22519 non-null  object \n",
      "dtypes: float64(1), int32(1), int64(1), object(14)\n",
      "memory usage: 2.9+ MB\n"
     ]
    }
   ],
   "source": [
    "df.info()"
   ]
  },
  {
   "attachments": {},
   "cell_type": "markdown",
   "metadata": {},
   "source": [
    "CONSULTA 5: Cantidad de series y películas por rating."
   ]
  },
  {
   "cell_type": "code",
   "execution_count": 74,
   "metadata": {},
   "outputs": [],
   "source": [
    "def get_rating_count(rating: str):\n",
    "    consulta = df[df[\"rating\"] == rating]\n",
    "    cantidad = consulta.shape[0]\n",
    "\n",
    "    return cantidad\n",
    "    "
   ]
  },
  {
   "cell_type": "code",
   "execution_count": 78,
   "metadata": {},
   "outputs": [
    {
     "data": {
      "text/plain": [
       "1243"
      ]
     },
     "execution_count": 78,
     "metadata": {},
     "output_type": "execute_result"
    }
   ],
   "source": [
    "get_rating_count(\"18+\")"
   ]
  }
 ],
 "metadata": {
  "kernelspec": {
   "display_name": "Python 3",
   "language": "python",
   "name": "python3"
  },
  "language_info": {
   "codemirror_mode": {
    "name": "ipython",
    "version": 3
   },
   "file_extension": ".py",
   "mimetype": "text/x-python",
   "name": "python",
   "nbconvert_exporter": "python",
   "pygments_lexer": "ipython3",
   "version": "3.9.0 (tags/v3.9.0:9cf6752, Oct  5 2020, 15:23:07) [MSC v.1927 32 bit (Intel)]"
  },
  "orig_nbformat": 4,
  "vscode": {
   "interpreter": {
    "hash": "48fcba1478c283cc3ba49b5d0785f5dfe3d7e2981638feaff3961e4efbbcddd8"
   }
  }
 },
 "nbformat": 4,
 "nbformat_minor": 2
}
